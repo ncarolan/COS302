{
  "nbformat": 4,
  "nbformat_minor": 0,
  "metadata": {
    "colab": {
      "provenance": [],
      "authorship_tag": "ABX9TyOnMIjQYnZvsHhQBoFjR4+f",
      "include_colab_link": true
    },
    "kernelspec": {
      "name": "python3",
      "display_name": "Python 3"
    },
    "language_info": {
      "name": "python"
    }
  },
  "cells": [
    {
      "cell_type": "markdown",
      "metadata": {
        "id": "view-in-github",
        "colab_type": "text"
      },
      "source": [
        "<a href=\"https://colab.research.google.com/github/ncarolan/COS302/blob/main/HW6/HW6.ipynb\" target=\"_parent\"><img src=\"https://colab.research.google.com/assets/colab-badge.svg\" alt=\"Open In Colab\"/></a>"
      ]
    },
    {
      "cell_type": "markdown",
      "source": [
        "# COS302 - HW6"
      ],
      "metadata": {
        "id": "KiblP1Zi1sEn"
      }
    },
    {
      "cell_type": "code",
      "source": [
        "import numpy as np\n",
        "from matplotlib import pyplot as plt\n",
        "\n",
        "SEED = 12\n",
        "\n",
        "np.set_printoptions(precision=3, suppress=True)"
      ],
      "metadata": {
        "id": "3MJndlof13PZ"
      },
      "execution_count": 82,
      "outputs": []
    },
    {
      "cell_type": "markdown",
      "source": [
        "## Problem 4"
      ],
      "metadata": {
        "id": "7xxOt05I1yFl"
      }
    },
    {
      "cell_type": "markdown",
      "source": [
        "### (A)"
      ],
      "metadata": {
        "id": "BgfuIduy11n_"
      }
    },
    {
      "cell_type": "code",
      "execution_count": 83,
      "metadata": {
        "id": "4zId7MmT1gde"
      },
      "outputs": [],
      "source": [
        "import numpy.random as npr\n",
        "npr.seed(SEED)"
      ]
    },
    {
      "cell_type": "markdown",
      "source": [
        "### (B)\n",
        "\n",
        "The mean is $p*n = 0.35 * 1000 = 350$.\n",
        "\n",
        "The variance of each individual Bernoulli variate is $p(1-p) = 0.35(1-0.35) = 0.2275$ Because the variables are independent, we can sum their variance to find that the variance of their sum is $1000 * 0.2275 = 227.5$."
      ],
      "metadata": {
        "id": "3cZ_b-Fo16RN"
      }
    },
    {
      "cell_type": "markdown",
      "source": [
        "### (C)"
      ],
      "metadata": {
        "id": "r-mlJnHJ17pQ"
      }
    },
    {
      "cell_type": "code",
      "source": [
        "P=0.35\n",
        "\n",
        "r = npr.rand(10000, 1000)\n",
        "bernoulli = np.where(r > (1-P), 1, 0)\n",
        "bernoulli = np.sum(bernoulli, axis=1)"
      ],
      "metadata": {
        "id": "9_qrOP0t18yn"
      },
      "execution_count": 60,
      "outputs": []
    },
    {
      "cell_type": "markdown",
      "source": [
        "### (D)"
      ],
      "metadata": {
        "id": "RX5uYMwI19G5"
      }
    },
    {
      "cell_type": "code",
      "source": [
        "plt.hist(bernoulli, bins=150); plt.ylabel(\"Count\"); plt.xlabel(\"Sum\"); plt.title(f'Sums of 1,000 Bernoulli Random Variables'); plt.show()"
      ],
      "metadata": {
        "colab": {
          "base_uri": "https://localhost:8080/",
          "height": 472
        },
        "id": "OBw72dMr1-AY",
        "outputId": "d562038b-1772-455f-c26f-af82f153320e"
      },
      "execution_count": 61,
      "outputs": [
        {
          "output_type": "display_data",
          "data": {
            "text/plain": [
              "<Figure size 640x480 with 1 Axes>"
            ],
            "image/png": "[encoded data removed]"
          },
          "metadata": {}
        }
      ]
    },
    {
      "cell_type": "markdown",
      "source": [
        "### (E)"
      ],
      "metadata": {
        "id": "Egv4V0Qd2AaI"
      }
    },
    {
      "cell_type": "code",
      "source": [
        "mean = np.mean(bernoulli)\n",
        "print(f'Mean: {mean:.2f}')\n",
        "\n",
        "manual_var = (1/len(bernoulli)) * np.sum([(mean-x)**2 for x in bernoulli])\n",
        "var = np.var(bernoulli)\n",
        "assert manual_var == var\n",
        "print(f'Variance: {manual_var:.2f}')"
      ],
      "metadata": {
        "colab": {
          "base_uri": "https://localhost:8080/"
        },
        "id": "_isG07Yn2BKK",
        "outputId": "a0e284dd-56a1-4603-a525-74d2cef6c3be"
      },
      "execution_count": 62,
      "outputs": [
        {
          "output_type": "stream",
          "name": "stdout",
          "text": [
            "Mean: 349.92\n",
            "Variance: 230.87\n"
          ]
        }
      ]
    },
    {
      "cell_type": "markdown",
      "source": [
        "### (F)\n",
        "\n",
        "The mean is $n*\\frac{x_{max} + x_{min}}{2} = 1000*\\frac{1 + (-1)}{2} = 0$.\n",
        "\n",
        "The variance is $n*\\frac{(x_{max} - x_{min})^2}{12} = 1000*\\frac{2^2}{12} = 333.33$."
      ],
      "metadata": {
        "id": "DNPHCZdA2BfU"
      }
    },
    {
      "cell_type": "markdown",
      "source": [
        "### (G)"
      ],
      "metadata": {
        "id": "4NsG69YA2DSv"
      }
    },
    {
      "cell_type": "code",
      "source": [
        "npr.seed(SEED)\n",
        "\n",
        "uniform = npr.rand(10000, 1000)\n",
        "uniform = (uniform*2) - 1\n",
        "uniform = np.sum(uniform, axis=1)"
      ],
      "metadata": {
        "id": "gpvEplVI2EGJ"
      },
      "execution_count": 93,
      "outputs": []
    },
    {
      "cell_type": "markdown",
      "source": [
        "### (H)"
      ],
      "metadata": {
        "id": "54R0XR9wmg-Y"
      }
    },
    {
      "cell_type": "code",
      "source": [
        "plt.hist(uniform, bins=150); plt.ylabel(\"Count\"); plt.xlabel(\"Sum\"); plt.title(f'Sums of 1,000 Uniform Continuous Random Variables'); plt.show()"
      ],
      "metadata": {
        "colab": {
          "base_uri": "https://localhost:8080/",
          "height": 472
        },
        "id": "YFucv9PNmiYm",
        "outputId": "8c2005bd-6f86-464b-e8a5-6d0a37d29400"
      },
      "execution_count": 94,
      "outputs": [
        {
          "output_type": "display_data",
          "data": {
            "text/plain": [
              "<Figure size 640x480 with 1 Axes>"
            ],
            "image/png": "[encoded data removed]"
          },
          "metadata": {}
        }
      ]
    },
    {
      "cell_type": "markdown",
      "source": [
        "### (I)"
      ],
      "metadata": {
        "id": "zHzYYYln2FsX"
      }
    },
    {
      "cell_type": "code",
      "source": [
        "mean = np.mean(uniform)\n",
        "print(f'Mean: {mean:.2f}')\n",
        "\n",
        "manual_var = (1/len(uniform)) * np.sum([(mean-x)**2 for x in uniform])\n",
        "var = np.var(uniform)\n",
        "assert manual_var == var\n",
        "print(f'Variance: {manual_var:.2f}')"
      ],
      "metadata": {
        "colab": {
          "base_uri": "https://localhost:8080/"
        },
        "id": "wZ8hjsVu2GdV",
        "outputId": "afa00299-b78e-48a1-bcbe-e326c5568b3f"
      },
      "execution_count": 95,
      "outputs": [
        {
          "output_type": "stream",
          "name": "stdout",
          "text": [
            "Mean: -0.04\n",
            "Variance: 336.31\n"
          ]
        }
      ]
    }
  ]
}
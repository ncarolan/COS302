{
  "nbformat": 4,
  "nbformat_minor": 0,
  "metadata": {
    "colab": {
      "provenance": [],
      "toc_visible": true,
      "authorship_tag": "ABX9TyMhy/KgbkKkZ/Mn+TOQKkfF",
      "include_colab_link": true
    },
    "kernelspec": {
      "name": "python3",
      "display_name": "Python 3"
    },
    "language_info": {
      "name": "python"
    }
  },
  "cells": [
    {
      "cell_type": "markdown",
      "metadata": {
        "id": "view-in-github",
        "colab_type": "text"
      },
      "source": [
        "<a href=\"https://colab.research.google.com/github/ncarolan/COS302/blob/main/HW1/HW1.ipynb\" target=\"_parent\"><img src=\"https://colab.research.google.com/assets/colab-badge.svg\" alt=\"Open In Colab\"/></a>"
      ]
    },
    {
      "cell_type": "markdown",
      "source": [
        "# COS 302 - HW1"
      ],
      "metadata": {
        "id": "SnJMpgBSzniD"
      }
    },
    {
      "cell_type": "markdown",
      "source": [
        "## Problem 6"
      ],
      "metadata": {
        "id": "bCmFijUVz1-F"
      }
    },
    {
      "cell_type": "markdown",
      "source": [
        "### (B)"
      ],
      "metadata": {
        "id": "OLGV85KP0dwI"
      }
    },
    {
      "cell_type": "code",
      "execution_count": 1,
      "metadata": {
        "colab": {
          "base_uri": "https://localhost:8080/"
        },
        "id": "XRBV8TgRzhHg",
        "outputId": "7e929bd5-fca2-4e22-bda6-18d25cbc1e6a"
      },
      "outputs": [
        {
          "output_type": "stream",
          "name": "stdout",
          "text": [
            "hello world!\n"
          ]
        }
      ],
      "source": [
        "print(\"hello world!\")"
      ]
    },
    {
      "cell_type": "markdown",
      "source": [
        "### (C)"
      ],
      "metadata": {
        "id": "xor07-Vq0gBf"
      }
    },
    {
      "cell_type": "code",
      "source": [
        "course_name = \"COS 302\"\n",
        "if course_name == \"COS 302\":\n",
        "  print(\"This is super fun!\")\n",
        "else:\n",
        "  print(\"Fun, but I wish I was in COS 302.\")"
      ],
      "metadata": {
        "colab": {
          "base_uri": "https://localhost:8080/"
        },
        "id": "9Oy-lSq70BRp",
        "outputId": "e0d0d655-800a-4f62-f0ac-32795ce37142"
      },
      "execution_count": 2,
      "outputs": [
        {
          "output_type": "stream",
          "name": "stdout",
          "text": [
            "This is super fun!\n"
          ]
        }
      ]
    },
    {
      "cell_type": "markdown",
      "source": [
        "### (D)"
      ],
      "metadata": {
        "id": "tBVc6YjC0iKr"
      }
    },
    {
      "cell_type": "code",
      "source": [
        "if course_name == \"COS 302\":\n",
        "  print(\"This is super fun!\")\n",
        "  print(\"I love Python.\")\n",
        "else:\n",
        "  print(\"Fun, but I wish I was in COS 302.\")"
      ],
      "metadata": {
        "colab": {
          "base_uri": "https://localhost:8080/"
        },
        "id": "SpGug2ol0WGx",
        "outputId": "bedcc847-e661-40b4-bd28-e5aea6e2b9ab"
      },
      "execution_count": 3,
      "outputs": [
        {
          "output_type": "stream",
          "name": "stdout",
          "text": [
            "This is super fun!\n",
            "I love Python.\n"
          ]
        }
      ]
    },
    {
      "cell_type": "code",
      "source": [
        "if course_name == \"COS 302\":\n",
        "  print(\"This is super fun!\")\n",
        "  print(\"I love Python.\")\n",
        "else:\n",
        "print(\"Fun, but I wish I was in COS 302.\") # Intentionally missing indent"
      ],
      "metadata": {
        "colab": {
          "base_uri": "https://localhost:8080/",
          "height": 108
        },
        "id": "w7DCLWSd0r3p",
        "outputId": "3b8e69b4-a67b-4d95-c7a1-b16bfd934497"
      },
      "execution_count": 4,
      "outputs": [
        {
          "output_type": "error",
          "ename": "IndentationError",
          "evalue": "expected an indented block after 'else' statement on line 4 (ipython-input-4-1204707674.py, line 5)",
          "traceback": [
            "\u001b[0;36m  File \u001b[0;32m\"/tmp/ipython-input-4-1204707674.py\"\u001b[0;36m, line \u001b[0;32m5\u001b[0m\n\u001b[0;31m    print(\"Fun, but I wish I was in COS 302.\") # Intentionally missing indent\u001b[0m\n\u001b[0m    ^\u001b[0m\n\u001b[0;31mIndentationError\u001b[0m\u001b[0;31m:\u001b[0m expected an indented block after 'else' statement on line 4\n"
          ]
        }
      ]
    },
    {
      "cell_type": "code",
      "source": [
        "if course_name == \"COS 302\":\n",
        "  print(\"This is super fun!\")\n",
        "    print(\"I love Python.\") # Intentionally over-indented\n",
        "else:\n",
        "  print(\"Fun, but I wish I was in COS 302.\")"
      ],
      "metadata": {
        "colab": {
          "base_uri": "https://localhost:8080/",
          "height": 108
        },
        "id": "oxqeWuSM0xWT",
        "outputId": "98e89c40-4444-43bd-cfa0-c531e6d68594"
      },
      "execution_count": 5,
      "outputs": [
        {
          "output_type": "error",
          "ename": "IndentationError",
          "evalue": "unexpected indent (ipython-input-5-2165751979.py, line 3)",
          "traceback": [
            "\u001b[0;36m  File \u001b[0;32m\"/tmp/ipython-input-5-2165751979.py\"\u001b[0;36m, line \u001b[0;32m3\u001b[0m\n\u001b[0;31m    print(\"I love Python.\") # Intentionally over-indented\u001b[0m\n\u001b[0m    ^\u001b[0m\n\u001b[0;31mIndentationError\u001b[0m\u001b[0;31m:\u001b[0m unexpected indent\n"
          ]
        }
      ]
    },
    {
      "cell_type": "markdown",
      "source": [
        "## Problem 7"
      ],
      "metadata": {
        "id": "ohRdPjID082d"
      }
    },
    {
      "cell_type": "markdown",
      "source": [
        "### (A)"
      ],
      "metadata": {
        "id": "HLD2d-4c1Hp1"
      }
    },
    {
      "cell_type": "code",
      "source": [
        "import math\n",
        "\n",
        "num_iters = 10\n",
        "f = 2  # Arbitrarily pick f(0)=2\n",
        "\n",
        "for ii in range(num_iters):\n",
        "  f = math.log(abs(f))\n",
        "  print(f'f({ii+1}) = {f:.4f}')"
      ],
      "metadata": {
        "colab": {
          "base_uri": "https://localhost:8080/"
        },
        "id": "yq1yjnmc029B",
        "outputId": "2c9806ef-6363-40cc-bb9e-3ec4fd809560"
      },
      "execution_count": 12,
      "outputs": [
        {
          "output_type": "stream",
          "name": "stdout",
          "text": [
            "f(1) = 0.6931\n",
            "f(2) = -0.3665\n",
            "f(3) = -1.0037\n",
            "f(4) = 0.0037\n",
            "f(5) = -5.5955\n",
            "f(6) = 1.7220\n",
            "f(7) = 0.5435\n",
            "f(8) = -0.6098\n",
            "f(9) = -0.4946\n",
            "f(10) = -0.7039\n"
          ]
        }
      ]
    },
    {
      "cell_type": "markdown",
      "source": [
        "### (B)"
      ],
      "metadata": {
        "id": "MMkYZPaK2dSz"
      }
    },
    {
      "cell_type": "code",
      "source": [
        "import numpy as np\n",
        "\n",
        "num_iters = 100\n",
        "f_values = np.empty(num_iters)\n",
        "f_values[0] = 2\n",
        "\n",
        "for ii in range(1, num_iters):\n",
        "  f_values[ii] = math.log(abs(f_values[ii-1]))\n",
        "\n",
        "print(f_values)"
      ],
      "metadata": {
        "colab": {
          "base_uri": "https://localhost:8080/"
        },
        "id": "OCTtzyTD2eDS",
        "outputId": "e6a694d8-9a48-4bf3-cb23-1dcd76083311"
      },
      "execution_count": 13,
      "outputs": [
        {
          "output_type": "stream",
          "name": "stdout",
          "text": [
            "[ 2.00000000e+00  6.93147181e-01 -3.66512921e-01 -1.00372150e+00\n",
            "  3.71459664e-03 -5.59548518e+00  1.72196006e+00  5.43463209e-01\n",
            " -6.09793267e-01 -4.94635285e-01 -7.03934585e-01 -3.51069846e-01\n",
            " -1.04677009e+00  4.57093139e-02 -3.08545320e+00  1.12669855e+00\n",
            "  1.19291719e-01 -2.12618337e+00  7.54328525e-01 -2.81927296e-01\n",
            " -1.26610606e+00  2.35946093e-01 -1.44415192e+00  3.67522242e-01\n",
            " -1.00097144e+00  9.70967451e-04 -6.93721761e+00  1.93690077e+00\n",
            "  6.61089156e-01 -4.13866567e-01 -8.82211658e-01 -1.25323276e-01\n",
            " -2.07685867e+00  7.30856497e-01 -3.13538150e-01 -1.15983424e+00\n",
            "  1.48277096e-01 -1.90867249e+00  6.46407967e-01 -4.36324446e-01\n",
            " -8.29369170e-01 -1.87089903e-01 -1.67616601e+00  5.16509050e-01\n",
            " -6.60662469e-01 -4.14512207e-01 -8.80652856e-01 -1.27091765e-01\n",
            " -2.06284589e+00  7.24086532e-01 -3.22844375e-01 -1.13058488e+00\n",
            "  1.22735095e-01 -2.09772695e+00  7.40854353e-01 -2.99951227e-01\n",
            " -1.20413539e+00  1.85761794e-01 -1.68329011e+00  5.20750274e-01\n",
            " -6.52484672e-01 -4.26967631e-01 -8.51047073e-01 -1.61287837e-01\n",
            " -1.82456470e+00  6.01341440e-01 -5.08592386e-01 -6.76108397e-01\n",
            " -3.91401866e-01 -9.38020457e-01 -6.39835210e-02 -2.74912971e+00\n",
            "  1.01128439e+00  1.12212000e-02 -4.48995043e+00  1.50184166e+00\n",
            "  4.06692129e-01 -8.99698819e-01 -1.05695217e-01 -2.24719564e+00\n",
            "  8.09683054e-01 -2.11112399e-01 -1.55536459e+00  4.41709982e-01\n",
            " -8.17101761e-01 -2.01991638e-01 -1.59952898e+00  4.69709198e-01\n",
            " -7.55641504e-01 -2.80188216e-01 -1.27229370e+00  2.40821334e-01\n",
            " -1.42369997e+00  3.53259097e-01 -1.04055351e+00  3.97527895e-02\n",
            " -3.22507527e+00  1.17095629e+00  1.57820755e-01 -1.84629535e+00]\n"
          ]
        }
      ]
    },
    {
      "cell_type": "markdown",
      "source": [
        "### (C)"
      ],
      "metadata": {
        "id": "i7Q6AWGd3MT4"
      }
    },
    {
      "cell_type": "code",
      "source": [
        "%matplotlib inline"
      ],
      "metadata": {
        "id": "qxROJWuI3NKB"
      },
      "execution_count": 14,
      "outputs": []
    },
    {
      "cell_type": "code",
      "source": [
        "import matplotlib.pyplot as plt\n",
        "\n",
        "plt.plot(f_values, '.')"
      ],
      "metadata": {
        "colab": {
          "base_uri": "https://localhost:8080/",
          "height": 448
        },
        "id": "IH8LgiNp3UWu",
        "outputId": "106b48b2-83f2-44e7-f17c-897759ab0b0f"
      },
      "execution_count": 15,
      "outputs": [
        {
          "output_type": "execute_result",
          "data": {
            "text/plain": [
              "[<matplotlib.lines.Line2D at 0x7b8978f72110>]"
            ]
          },
          "metadata": {},
          "execution_count": 15
        },
        {
          "output_type": "display_data",
          "data": {
            "text/plain": [
              "<Figure size 640x480 with 1 Axes>"
            ],
            "image/png": "[encoded data removed]"
          },
          "metadata": {}
        }
      ]
    },
    {
      "cell_type": "markdown",
      "source": [
        "## Problem 8"
      ],
      "metadata": {
        "id": "K86AkABl3cnM"
      }
    },
    {
      "cell_type": "code",
      "source": [],
      "metadata": {
        "id": "hQ5jwRSp3dvU"
      },
      "execution_count": null,
      "outputs": []
    }
  ]
}
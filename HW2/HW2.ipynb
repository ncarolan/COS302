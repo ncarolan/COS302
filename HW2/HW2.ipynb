{
  "nbformat": 4,
  "nbformat_minor": 0,
  "metadata": {
    "colab": {
      "provenance": [],
      "authorship_tag": "ABX9TyPFLl88h+QJeUIjKfaB818C",
      "include_colab_link": true
    },
    "kernelspec": {
      "name": "python3",
      "display_name": "Python 3"
    },
    "language_info": {
      "name": "python"
    }
  },
  "cells": [
    {
      "cell_type": "markdown",
      "metadata": {
        "id": "view-in-github",
        "colab_type": "text"
      },
      "source": [
        "<a href=\"https://colab.research.google.com/github/ncarolan/COS302/blob/main/HW2/HW2.ipynb\" target=\"_parent\"><img src=\"https://colab.research.google.com/assets/colab-badge.svg\" alt=\"Open In Colab\"/></a>"
      ]
    },
    {
      "cell_type": "markdown",
      "source": [
        "# COS 302 - HW2"
      ],
      "metadata": {
        "id": "apRikdkw2REm"
      }
    },
    {
      "cell_type": "code",
      "source": [
        "import numpy as np\n",
        "np.set_printoptions(precision=3, suppress=True)"
      ],
      "metadata": {
        "id": "ZeWpQYs-5lj0"
      },
      "execution_count": 1,
      "outputs": []
    },
    {
      "cell_type": "markdown",
      "source": [
        "## Problem 2"
      ],
      "metadata": {
        "id": "adIPibFl2V7D"
      }
    },
    {
      "cell_type": "markdown",
      "source": [
        "### (A)"
      ],
      "metadata": {
        "id": "uN9xLzGIMpej"
      }
    },
    {
      "cell_type": "code",
      "execution_count": 2,
      "metadata": {
        "colab": {
          "base_uri": "https://localhost:8080/"
        },
        "id": "EHILmpKK2OQ_",
        "outputId": "8da9f8c2-18ff-44b7-f2ac-195604a17257"
      },
      "outputs": [
        {
          "output_type": "stream",
          "name": "stdout",
          "text": [
            "[ 0  1  2  3  4  5  6  7  8  9 10 11 12 13 14 15 16 17 18 19 20 21 22 23\n",
            " 24 25 26 27 28 29] with shape: (30,)\n"
          ]
        }
      ],
      "source": [
        "foo = np.arange(30)\n",
        "print(f'{foo} with shape: {foo.shape}')"
      ]
    },
    {
      "cell_type": "markdown",
      "source": [
        "### (B)"
      ],
      "metadata": {
        "id": "UFlALZ8nMs2P"
      }
    },
    {
      "cell_type": "code",
      "source": [
        "bar = foo.reshape((2,15))\n",
        "print(f'{bar} with shape: {bar.shape}')"
      ],
      "metadata": {
        "colab": {
          "base_uri": "https://localhost:8080/"
        },
        "id": "lRKeu9GQL6cB",
        "outputId": "d1c5f236-4bbb-4f97-dd56-f8165a3e7634"
      },
      "execution_count": 3,
      "outputs": [
        {
          "output_type": "stream",
          "name": "stdout",
          "text": [
            "[[ 0  1  2  3  4  5  6  7  8  9 10 11 12 13 14]\n",
            " [15 16 17 18 19 20 21 22 23 24 25 26 27 28 29]] with shape: (2, 15)\n"
          ]
        }
      ]
    },
    {
      "cell_type": "markdown",
      "source": [
        "### (C)"
      ],
      "metadata": {
        "id": "gyu3uqRzMuUt"
      }
    },
    {
      "cell_type": "code",
      "source": [
        "baz = foo.reshape((2,3,5))\n",
        "print(f'{baz} with shape: {baz.shape}')"
      ],
      "metadata": {
        "colab": {
          "base_uri": "https://localhost:8080/"
        },
        "id": "kXakdf1jMF8X",
        "outputId": "ba47e373-0e35-466f-e70b-615e7e482b55"
      },
      "execution_count": 4,
      "outputs": [
        {
          "output_type": "stream",
          "name": "stdout",
          "text": [
            "[[[ 0  1  2  3  4]\n",
            "  [ 5  6  7  8  9]\n",
            "  [10 11 12 13 14]]\n",
            "\n",
            " [[15 16 17 18 19]\n",
            "  [20 21 22 23 24]\n",
            "  [25 26 27 28 29]]] with shape: (2, 3, 5)\n"
          ]
        }
      ]
    },
    {
      "cell_type": "markdown",
      "source": [
        "### (D)"
      ],
      "metadata": {
        "id": "2EATwuyEMv5B"
      }
    },
    {
      "cell_type": "code",
      "source": [
        "bar[1, 0] = -1\n",
        "print(f'bar:\\n {bar}')\n",
        "\n",
        "print(f'foo:\\n {foo}')\n",
        "print(f'baz:\\n {baz}')"
      ],
      "metadata": {
        "colab": {
          "base_uri": "https://localhost:8080/"
        },
        "id": "0OTOOY-ZMxj3",
        "outputId": "b502340c-0feb-496b-a297-d43151e6ef99"
      },
      "execution_count": 5,
      "outputs": [
        {
          "output_type": "stream",
          "name": "stdout",
          "text": [
            "bar:\n",
            " [[ 0  1  2  3  4  5  6  7  8  9 10 11 12 13 14]\n",
            " [-1 16 17 18 19 20 21 22 23 24 25 26 27 28 29]]\n",
            "foo:\n",
            " [ 0  1  2  3  4  5  6  7  8  9 10 11 12 13 14 -1 16 17 18 19 20 21 22 23\n",
            " 24 25 26 27 28 29]\n",
            "baz:\n",
            " [[[ 0  1  2  3  4]\n",
            "  [ 5  6  7  8  9]\n",
            "  [10 11 12 13 14]]\n",
            "\n",
            " [[-1 16 17 18 19]\n",
            "  [20 21 22 23 24]\n",
            "  [25 26 27 28 29]]]\n"
          ]
        }
      ]
    },
    {
      "cell_type": "markdown",
      "source": [
        "Numpy [`reshape`](https://numpy.org/doc/stable/reference/generated/numpy.reshape.html) typically returns a view object, which references the data of the original array in memory, rather than creating a new copy with the new dimensions. Because of this, changing the values in a reshaped view also changes those values in the original array and other views."
      ],
      "metadata": {
        "id": "l5H5O5CRbOVM"
      }
    },
    {
      "cell_type": "markdown",
      "source": [
        "### (E)"
      ],
      "metadata": {
        "id": "qyrKpZppcDj2"
      }
    },
    {
      "cell_type": "code",
      "source": [
        "# (i) Sum baz over its second dimension and print the result.\n",
        "res = baz.sum(axis=1)\n",
        "print(f'{res} with shape {res.shape}')"
      ],
      "metadata": {
        "colab": {
          "base_uri": "https://localhost:8080/"
        },
        "id": "2Uww-_wKcFAS",
        "outputId": "33653564-d79d-4cfa-9704-aa6003022943"
      },
      "execution_count": 6,
      "outputs": [
        {
          "output_type": "stream",
          "name": "stdout",
          "text": [
            "[[15 18 21 24 27]\n",
            " [44 63 66 69 72]] with shape (2, 5)\n"
          ]
        }
      ]
    },
    {
      "cell_type": "code",
      "source": [
        "# (ii) Sum baz over its third dimension and print the result.\n",
        "res = baz.sum(axis=2)\n",
        "print(f'{res} with shape {res.shape}')"
      ],
      "metadata": {
        "colab": {
          "base_uri": "https://localhost:8080/"
        },
        "id": "4Q1Z_1t0cTu6",
        "outputId": "1d997a93-1c90-493e-8195-fd12eef66461"
      },
      "execution_count": 7,
      "outputs": [
        {
          "output_type": "stream",
          "name": "stdout",
          "text": [
            "[[ 10  35  60]\n",
            " [ 69 110 135]] with shape (2, 3)\n"
          ]
        }
      ]
    },
    {
      "cell_type": "code",
      "source": [
        "# (iii) Sum baz over both its first and third dimensions and print the result.\n",
        "res = baz.sum(axis=(0,2))\n",
        "print(f'{res} with shape {res.shape}')"
      ],
      "metadata": {
        "colab": {
          "base_uri": "https://localhost:8080/"
        },
        "id": "sm7hQDc_cT12",
        "outputId": "9069c0e1-5c27-4d3c-cb8f-4d0dbe090316"
      },
      "execution_count": 8,
      "outputs": [
        {
          "output_type": "stream",
          "name": "stdout",
          "text": [
            "[ 79 145 195] with shape (3,)\n"
          ]
        }
      ]
    },
    {
      "cell_type": "markdown",
      "source": [
        "### (F)"
      ],
      "metadata": {
        "id": "Mc7x5sxhcFLF"
      }
    },
    {
      "cell_type": "code",
      "source": [
        "# (i) Slice out the second row of bar and print it.\n",
        "res = bar[1, :]\n",
        "print(f'{res} with shape {res.shape}')"
      ],
      "metadata": {
        "colab": {
          "base_uri": "https://localhost:8080/"
        },
        "id": "PJTM64zecHF5",
        "outputId": "b2d1d05a-7aea-4c57-8326-215c38648c27"
      },
      "execution_count": 9,
      "outputs": [
        {
          "output_type": "stream",
          "name": "stdout",
          "text": [
            "[-1 16 17 18 19 20 21 22 23 24 25 26 27 28 29] with shape (15,)\n"
          ]
        }
      ]
    },
    {
      "cell_type": "code",
      "source": [
        "# (ii) Slice out the last column of bar using the -1 notation and print it.\n",
        "res = bar[:, -1]\n",
        "print(f'{res} with shape {res.shape}')"
      ],
      "metadata": {
        "colab": {
          "base_uri": "https://localhost:8080/"
        },
        "id": "t9z9HU6cdnsJ",
        "outputId": "d7ba7e38-f544-4413-d0cc-d7f792416fb0"
      },
      "execution_count": 10,
      "outputs": [
        {
          "output_type": "stream",
          "name": "stdout",
          "text": [
            "[14 29] with shape (2,)\n"
          ]
        }
      ]
    },
    {
      "cell_type": "code",
      "source": [
        "# (iii) Slice out the top right 2 × 2 submatrix of bar and print it.\n",
        "res = bar[:2, -2:]\n",
        "print(f'{res} with shape {res.shape}')"
      ],
      "metadata": {
        "colab": {
          "base_uri": "https://localhost:8080/"
        },
        "id": "DWyAJ6LIdn0u",
        "outputId": "dbfff05e-97ce-4798-aa2f-2fbf5195540e"
      },
      "execution_count": 11,
      "outputs": [
        {
          "output_type": "stream",
          "name": "stdout",
          "text": [
            "[[13 14]\n",
            " [28 29]] with shape (2, 2)\n"
          ]
        }
      ]
    },
    {
      "cell_type": "markdown",
      "source": [
        "## Problem 3"
      ],
      "metadata": {
        "id": "S_OkSen92cfl"
      }
    },
    {
      "cell_type": "markdown",
      "source": [
        "### (A)"
      ],
      "metadata": {
        "id": "D2qFevk9gNYv"
      }
    },
    {
      "cell_type": "code",
      "source": [
        "vals = np.arange(10) + 1\n",
        "print(f'{vals} with shape {vals.shape}')"
      ],
      "metadata": {
        "colab": {
          "base_uri": "https://localhost:8080/"
        },
        "id": "2fGaimvJ2d12",
        "outputId": "d0e40b10-463c-4eb7-d538-f585f321ea51"
      },
      "execution_count": 12,
      "outputs": [
        {
          "output_type": "stream",
          "name": "stdout",
          "text": [
            "[ 1  2  3  4  5  6  7  8  9 10] with shape (10,)\n"
          ]
        }
      ]
    },
    {
      "cell_type": "markdown",
      "source": [
        "### (B)"
      ],
      "metadata": {
        "id": "HerVXq37gOyI"
      }
    },
    {
      "cell_type": "code",
      "source": [
        "res = vals.reshape((10,1))\n",
        "res = res + vals\n",
        "print(f'{res} with shape {res.shape}')"
      ],
      "metadata": {
        "colab": {
          "base_uri": "https://localhost:8080/"
        },
        "id": "CVv1bHj8gQJo",
        "outputId": "635501ab-6b9b-4ff0-99c5-b929d93d38b7"
      },
      "execution_count": 13,
      "outputs": [
        {
          "output_type": "stream",
          "name": "stdout",
          "text": [
            "[[ 2  3  4  5  6  7  8  9 10 11]\n",
            " [ 3  4  5  6  7  8  9 10 11 12]\n",
            " [ 4  5  6  7  8  9 10 11 12 13]\n",
            " [ 5  6  7  8  9 10 11 12 13 14]\n",
            " [ 6  7  8  9 10 11 12 13 14 15]\n",
            " [ 7  8  9 10 11 12 13 14 15 16]\n",
            " [ 8  9 10 11 12 13 14 15 16 17]\n",
            " [ 9 10 11 12 13 14 15 16 17 18]\n",
            " [10 11 12 13 14 15 16 17 18 19]\n",
            " [11 12 13 14 15 16 17 18 19 20]] with shape (10, 10)\n"
          ]
        }
      ]
    },
    {
      "cell_type": "markdown",
      "source": [
        "### (C)"
      ],
      "metadata": {
        "id": "QyU02q0fgQdD"
      }
    },
    {
      "cell_type": "code",
      "source": [
        "import numpy.random as npr\n",
        "data = np.exp(npr.randn(50,5))\n",
        "\n",
        "print(f'{data} with shape {data.shape}')"
      ],
      "metadata": {
        "colab": {
          "base_uri": "https://localhost:8080/"
        },
        "id": "P1FruyjmgRko",
        "outputId": "6213f11d-9e9d-4fa9-fda5-6a20b8bc8f90"
      },
      "execution_count": 14,
      "outputs": [
        {
          "output_type": "stream",
          "name": "stdout",
          "text": [
            "[[ 3.198  0.484  0.779  0.133  2.481]\n",
            " [ 5.794  5.368  0.522  5.717  1.297]\n",
            " [ 2.14   0.234  1.799  2.274  1.553]\n",
            " [ 0.36   1.115  2.358  3.856  0.426]\n",
            " [ 1.202  2.054  0.64   0.592  1.263]\n",
            " [ 2.12   5.397  0.529  0.224  1.56 ]\n",
            " [ 1.036  0.346  1.08   5.051  2.558]\n",
            " [ 0.421  2.806  0.077  0.961  0.831]\n",
            " [ 1.987  0.831  0.549  0.826  0.367]\n",
            " [ 0.192  0.872  0.466  3.893  8.021]\n",
            " [ 0.932  1.37   1.378  2.671  1.149]\n",
            " [ 2.325  1.947  1.603  2.417  0.689]\n",
            " [ 0.382  0.287  2.783  1.612  1.067]\n",
            " [ 1.614  0.54   0.816  0.32   0.295]\n",
            " [ 2.524  0.985  1.958  0.426  0.333]\n",
            " [ 0.595  1.141  1.026  0.649  3.147]\n",
            " [ 0.742  0.196  0.221  2.214  0.402]\n",
            " [ 1.23   2.395  2.117  7.713  0.491]\n",
            " [ 2.141  2.669  4.436  0.77   3.505]\n",
            " [ 2.32   2.675  6.029  1.674  0.841]\n",
            " [ 0.823  0.75   0.745  6.095  0.505]\n",
            " [ 0.524  0.743  2.253  9.85   0.124]\n",
            " [ 0.294  1.288  0.294  1.524  1.732]\n",
            " [ 0.265  1.123  2.366  0.896 13.608]\n",
            " [ 0.139  0.274  0.817  0.332  1.883]\n",
            " [ 1.366  2.16   4.234  0.816  0.984]\n",
            " [ 2.876  0.941  0.498  1.882  1.236]\n",
            " [ 2.22   0.789  0.87   2.276  1.67 ]\n",
            " [ 0.299  0.149  3.372  0.165  4.871]\n",
            " [ 0.576  1.138  1.945  0.907  2.246]\n",
            " [ 1.163  1.326  1.35   0.541  2.196]\n",
            " [ 1.055  1.463  0.656  1.233  0.998]\n",
            " [ 0.252  1.206  0.25  46.287  0.803]\n",
            " [ 0.994  1.774  1.517  1.853  3.078]\n",
            " [ 0.991  0.186  0.42   0.718  0.18 ]\n",
            " [ 1.934  0.412  3.905  7.787  2.483]\n",
            " [ 0.055  3.56   2.148  1.12   3.949]\n",
            " [ 1.006  0.251  0.918  0.214  2.889]\n",
            " [ 0.661  0.788  1.185  0.508  1.594]\n",
            " [ 0.639  1.5    0.418  1.134  2.424]\n",
            " [ 6.395  0.884  4.573  1.866  0.71 ]\n",
            " [ 3.209  1.026  3.185  0.23   3.627]\n",
            " [ 1.897  1.807  0.367  0.767  0.238]\n",
            " [ 1.247  0.337  1.031  2.557  4.323]\n",
            " [ 1.661  0.872  0.405  1.278  1.853]\n",
            " [ 1.005  0.077  1.532  0.646  1.172]\n",
            " [ 1.157  1.204  1.973  0.283  2.286]\n",
            " [ 0.683  0.329  0.339  0.319  3.238]\n",
            " [ 0.113  1.274  2.3    3.809  0.379]\n",
            " [ 0.532 10.467  0.183  0.317  0.8  ]] with shape (50, 5)\n"
          ]
        }
      ]
    },
    {
      "cell_type": "markdown",
      "source": [
        "### (D)"
      ],
      "metadata": {
        "id": "tjsdyrSKgSWm"
      }
    },
    {
      "cell_type": "code",
      "source": [
        "means = data.mean(axis=0)\n",
        "stds = data.std(axis=0)\n",
        "\n",
        "print(f'means: {means}')\n",
        "print(f'stds: {stds}')"
      ],
      "metadata": {
        "colab": {
          "base_uri": "https://localhost:8080/"
        },
        "id": "LRDu0o09gUC2",
        "outputId": "e0e8167e-3826-474f-bf52-f249a585a959"
      },
      "execution_count": 15,
      "outputs": [
        {
          "output_type": "stream",
          "name": "stdout",
          "text": [
            "means: [1.386 1.476 1.544 2.844 2.007]\n",
            "stds: [1.268 1.716 1.33  6.576 2.215]\n"
          ]
        }
      ]
    },
    {
      "cell_type": "markdown",
      "source": [
        "### (E)"
      ],
      "metadata": {
        "id": "G4NebmmEgU_u"
      }
    },
    {
      "cell_type": "code",
      "source": [
        "normalized = (data - means) / stds\n",
        "print(f'{normalized} with shape {normalized.shape}')\n",
        "\n",
        "print(f'means: {normalized.mean(axis=0)}')\n",
        "print(f'stds: {normalized.std(axis=0)}')"
      ],
      "metadata": {
        "colab": {
          "base_uri": "https://localhost:8080/"
        },
        "id": "DDcDFRrogWQt",
        "outputId": "d3baa33d-27fa-41bb-e263-0d908d2e9fca"
      },
      "execution_count": 16,
      "outputs": [
        {
          "output_type": "stream",
          "name": "stdout",
          "text": [
            "[[ 1.429 -0.579 -0.576 -0.412  0.214]\n",
            " [ 3.477  2.268 -0.769  0.437 -0.321]\n",
            " [ 0.595 -0.724  0.191 -0.087 -0.205]\n",
            " [-0.809 -0.21   0.612  0.154 -0.714]\n",
            " [-0.145  0.337 -0.68  -0.342 -0.336]\n",
            " [ 0.579  2.285 -0.763 -0.398 -0.202]\n",
            " [-0.276 -0.659 -0.349  0.336  0.249]\n",
            " [-0.761  0.775 -1.104 -0.286 -0.531]\n",
            " [ 0.474 -0.376 -0.748 -0.307 -0.74 ]\n",
            " [-0.942 -0.352 -0.811  0.16   2.714]\n",
            " [-0.358 -0.062 -0.125 -0.026 -0.387]\n",
            " [ 0.741  0.274  0.044 -0.065 -0.595]\n",
            " [-0.792 -0.693  0.932 -0.187 -0.424]\n",
            " [ 0.18  -0.546 -0.547 -0.384 -0.773]\n",
            " [ 0.898 -0.286  0.311 -0.368 -0.756]\n",
            " [-0.623 -0.195 -0.39  -0.334  0.515]\n",
            " [-0.508 -0.746 -0.995 -0.096 -0.725]\n",
            " [-0.123  0.535  0.43   0.74  -0.684]\n",
            " [ 0.595  0.695  2.175 -0.315  0.676]\n",
            " [ 0.737  0.698  3.373 -0.178 -0.526]\n",
            " [-0.444 -0.423 -0.601  0.494 -0.678]\n",
            " [-0.68  -0.428  0.533  1.065 -0.85 ]\n",
            " [-0.861 -0.11  -0.94  -0.201 -0.124]\n",
            " [-0.884 -0.206  0.618 -0.296  5.236]\n",
            " [-0.983 -0.701 -0.547 -0.382 -0.056]\n",
            " [-0.015  0.399  2.023 -0.308 -0.462]\n",
            " [ 1.175 -0.312 -0.787 -0.146 -0.348]\n",
            " [ 0.658 -0.401 -0.507 -0.086 -0.152]\n",
            " [-0.857 -0.774  1.375 -0.407  1.293]\n",
            " [-0.639 -0.197  0.301 -0.295  0.108]\n",
            " [-0.176 -0.087 -0.146 -0.35   0.085]\n",
            " [-0.261 -0.008 -0.668 -0.245 -0.455]\n",
            " [-0.894 -0.157 -0.973  6.607 -0.543]\n",
            " [-0.309  0.174 -0.021 -0.151  0.483]\n",
            " [-0.312 -0.752 -0.846 -0.323 -0.825]\n",
            " [ 0.433 -0.62   1.776  0.752  0.215]\n",
            " [-1.05   1.215  0.454 -0.262  0.876]\n",
            " [-0.299 -0.714 -0.471 -0.4    0.398]\n",
            " [-0.572 -0.401 -0.27  -0.355 -0.186]\n",
            " [-0.589  0.014 -0.847 -0.26   0.188]\n",
            " [ 3.951 -0.345  2.278 -0.149 -0.586]\n",
            " [ 1.438 -0.262  1.234 -0.397  0.731]\n",
            " [ 0.403  0.193 -0.886 -0.316 -0.798]\n",
            " [-0.109 -0.664 -0.386 -0.044  1.045]\n",
            " [ 0.217 -0.352 -0.857 -0.238 -0.069]\n",
            " [-0.301 -0.815 -0.009 -0.334 -0.377]\n",
            " [-0.18  -0.159  0.322 -0.39   0.126]\n",
            " [-0.554 -0.668 -0.907 -0.384  0.555]\n",
            " [-1.004 -0.118  0.569  0.147 -0.735]\n",
            " [-0.673  5.24  -1.024 -0.384 -0.545]] with shape (50, 5)\n",
            "means: [ 0.  0.  0.  0. -0.]\n",
            "stds: [1. 1. 1. 1. 1.]\n"
          ]
        }
      ]
    },
    {
      "cell_type": "markdown",
      "source": [
        "## Problem 4"
      ],
      "metadata": {
        "id": "foSvCtyv2ikg"
      }
    },
    {
      "cell_type": "markdown",
      "source": [
        "### (A)"
      ],
      "metadata": {
        "id": "KU36TJF6QDA_"
      }
    },
    {
      "cell_type": "code",
      "source": [
        "def vandermonde(N):\n",
        "  \"\"\"For a natural number N, returns a Vandermonde matrix for a vector [1,2,...,N]^T.\"\"\"\n",
        "  vec = np.arange(N) + 1\n",
        "  vec = vec.reshape((N,1))\n",
        "  return vec ** np.arange(N)"
      ],
      "metadata": {
        "id": "-uLe-yJh2jfm"
      },
      "execution_count": 17,
      "outputs": []
    },
    {
      "cell_type": "code",
      "source": [
        "vander = vandermonde(12)\n",
        "print(f'{vander} with shape {vander.shape}')"
      ],
      "metadata": {
        "colab": {
          "base_uri": "https://localhost:8080/"
        },
        "id": "Sr2ypTKZpSAC",
        "outputId": "54e7eff8-20b8-47ea-aada-0787be9e473d"
      },
      "execution_count": 18,
      "outputs": [
        {
          "output_type": "stream",
          "name": "stdout",
          "text": [
            "[[           1            1            1            1            1\n",
            "             1            1            1            1            1\n",
            "             1            1]\n",
            " [           1            2            4            8           16\n",
            "            32           64          128          256          512\n",
            "          1024         2048]\n",
            " [           1            3            9           27           81\n",
            "           243          729         2187         6561        19683\n",
            "         59049       177147]\n",
            " [           1            4           16           64          256\n",
            "          1024         4096        16384        65536       262144\n",
            "       1048576      4194304]\n",
            " [           1            5           25          125          625\n",
            "          3125        15625        78125       390625      1953125\n",
            "       9765625     48828125]\n",
            " [           1            6           36          216         1296\n",
            "          7776        46656       279936      1679616     10077696\n",
            "      60466176    362797056]\n",
            " [           1            7           49          343         2401\n",
            "         16807       117649       823543      5764801     40353607\n",
            "     282475249   1977326743]\n",
            " [           1            8           64          512         4096\n",
            "         32768       262144      2097152     16777216    134217728\n",
            "    1073741824   8589934592]\n",
            " [           1            9           81          729         6561\n",
            "         59049       531441      4782969     43046721    387420489\n",
            "    3486784401  31381059609]\n",
            " [           1           10          100         1000        10000\n",
            "        100000      1000000     10000000    100000000   1000000000\n",
            "   10000000000 100000000000]\n",
            " [           1           11          121         1331        14641\n",
            "        161051      1771561     19487171    214358881   2357947691\n",
            "   25937424601 285311670611]\n",
            " [           1           12          144         1728        20736\n",
            "        248832      2985984     35831808    429981696   5159780352\n",
            "   61917364224 743008370688]] with shape (12, 12)\n"
          ]
        }
      ]
    },
    {
      "cell_type": "markdown",
      "source": [
        "### (B)"
      ],
      "metadata": {
        "id": "oF5Y-4quQEjO"
      }
    },
    {
      "cell_type": "code",
      "source": [
        "x = np.ones(12)\n",
        "\n",
        "b = vander @ x\n",
        "print(f'b={b}')"
      ],
      "metadata": {
        "colab": {
          "base_uri": "https://localhost:8080/"
        },
        "id": "Ep0_WcylQFqF",
        "outputId": "1bbc0c48-74c3-485b-b2db-ae45208a112f"
      },
      "execution_count": 19,
      "outputs": [
        {
          "output_type": "stream",
          "name": "stdout",
          "text": [
            "b=[1.200e+01 4.095e+03 2.657e+05 5.592e+06 6.104e+07 4.354e+08 2.307e+09\n",
            " 9.817e+09 3.530e+10 1.111e+11 3.138e+11 8.106e+11]\n"
          ]
        }
      ]
    },
    {
      "cell_type": "markdown",
      "source": [
        "### (C)"
      ],
      "metadata": {
        "id": "6n0fddYyQGDX"
      }
    },
    {
      "cell_type": "code",
      "source": [
        "res = np.linalg.inv(vander) @ b.T\n",
        "print(f'x={res}')"
      ],
      "metadata": {
        "colab": {
          "base_uri": "https://localhost:8080/"
        },
        "id": "R8bIB_xHQG2F",
        "outputId": "09ac7d5f-34d5-4841-dd32-ce14a27d426c"
      },
      "execution_count": 20,
      "outputs": [
        {
          "output_type": "stream",
          "name": "stdout",
          "text": [
            "x=[-12.27    5.906  15.422  -6.035   2.059   0.927   1.002   1.      1.\n",
            "   1.      1.      1.   ]\n"
          ]
        }
      ]
    },
    {
      "cell_type": "markdown",
      "source": [
        "We expect the values in x to be 1, or aproximately 1. We set up `Vx=b` with `x` being a vector of ones, and `V` computed above. From this we find the values of `b` by taking the product. Now given `b` and `V`, we can compute `x` as `x=V^-1 b`. However, we find that the resulting `b` vectors differs significantly from the true value due to numerical problems with matrix inversion on computers."
      ],
      "metadata": {
        "id": "3mkLIDVK6wcn"
      }
    },
    {
      "cell_type": "markdown",
      "source": [
        "### (D)"
      ],
      "metadata": {
        "id": "mxdGdrH_QHPY"
      }
    },
    {
      "cell_type": "code",
      "source": [
        "res = np.linalg.solve(vander, b)\n",
        "print(f'x={res}')"
      ],
      "metadata": {
        "colab": {
          "base_uri": "https://localhost:8080/"
        },
        "id": "U3-zjAfEQIJ3",
        "outputId": "33f9f210-eda7-4a80-ee76-31c42ff67f77"
      },
      "execution_count": 21,
      "outputs": [
        {
          "output_type": "stream",
          "name": "stdout",
          "text": [
            "x=[0.981 1.051 0.945 1.032 0.989 1.002 1.    1.    1.    1.    1.    1.   ]\n"
          ]
        }
      ]
    },
    {
      "cell_type": "markdown",
      "source": [
        "These results are much closer to the true values of 1."
      ],
      "metadata": {
        "id": "uLtBtXjM7AqY"
      }
    }
  ]
}
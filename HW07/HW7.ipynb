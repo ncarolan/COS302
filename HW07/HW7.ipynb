{
  "nbformat": 4,
  "nbformat_minor": 0,
  "metadata": {
    "colab": {
      "provenance": [],
      "authorship_tag": "ABX9TyMc2kLYtqI++5pUpqdg+Pop",
      "include_colab_link": true
    },
    "kernelspec": {
      "name": "python3",
      "display_name": "Python 3"
    },
    "language_info": {
      "name": "python"
    }
  },
  "cells": [
    {
      "cell_type": "markdown",
      "metadata": {
        "id": "view-in-github",
        "colab_type": "text"
      },
      "source": [
        "<a href=\"https://colab.research.google.com/github/ncarolan/COS302/blob/main/HW7/HW7.ipynb\" target=\"_parent\"><img src=\"https://colab.research.google.com/assets/colab-badge.svg\" alt=\"Open In Colab\"/></a>"
      ]
    },
    {
      "cell_type": "markdown",
      "source": [
        "# COS302 - HW7"
      ],
      "metadata": {
        "id": "sSCoABlKQ6qk"
      }
    },
    {
      "cell_type": "code",
      "execution_count": 9,
      "metadata": {
        "id": "GwKE4lhsQ4ua"
      },
      "outputs": [],
      "source": [
        "import numpy as np\n",
        "import numpy.random as npr\n",
        "from matplotlib import pyplot as plt\n",
        "\n",
        "SEED = 12\n",
        "\n",
        "npr.seed(SEED)\n",
        "np.set_printoptions(precision=3, suppress=True)"
      ]
    },
    {
      "cell_type": "markdown",
      "source": [
        "## Problem 1"
      ],
      "metadata": {
        "id": "ooH-DsX6P4Yf"
      }
    },
    {
      "cell_type": "markdown",
      "source": [
        "### (C)\n",
        "\n",
        "Using an inverse function $F^{-1}(u): (0,1) → R = ln(\\frac{u}{1-u})$:"
      ],
      "metadata": {
        "id": "WS2W8F0NP539"
      }
    },
    {
      "cell_type": "code",
      "source": [
        "u = npr.rand(1000,)\n",
        "\n",
        "f = np.log(u / (1-u))\n",
        "\n",
        "plt.hist(f, bins=100); plt.xlabel(\"f^-1(u)\"); plt.ylabel(\"Count\"); plt.show()"
      ],
      "metadata": {
        "colab": {
          "base_uri": "https://localhost:8080/",
          "height": 449
        },
        "id": "2YVgTyeGP6BK",
        "outputId": "f942d9b1-f7f7-406c-f985-4573a24811fa"
      },
      "execution_count": 10,
      "outputs": [
        {
          "output_type": "display_data",
          "data": {
            "text/plain": [
              "<Figure size 640x480 with 1 Axes>"
            ],
            "image/png": "[encoded data removed]"
          },
          "metadata": {}
        }
      ]
    },
    {
      "cell_type": "markdown",
      "source": [
        "## Problem 3"
      ],
      "metadata": {
        "id": "bsqAxi3qQ91_"
      }
    },
    {
      "cell_type": "markdown",
      "source": [
        "### (A)"
      ],
      "metadata": {
        "id": "9vBVXTRQRCDl"
      }
    },
    {
      "cell_type": "code",
      "source": [
        "x = npr.choice([-1, 1], size=(1_000_000,))"
      ],
      "metadata": {
        "id": "d9d-AI4pRBLp"
      },
      "execution_count": 11,
      "outputs": []
    },
    {
      "cell_type": "markdown",
      "source": [
        "### (B)"
      ],
      "metadata": {
        "id": "QF_EPu5uRE24"
      }
    },
    {
      "cell_type": "code",
      "source": [
        "y = np.where(x==-1, 0, npr.choice([-1,1], size=1_000_000))"
      ],
      "metadata": {
        "id": "Gy3VkX91RFti"
      },
      "execution_count": 12,
      "outputs": []
    },
    {
      "cell_type": "markdown",
      "source": [
        "### (C)"
      ],
      "metadata": {
        "id": "x6CjtISfRGCN"
      }
    },
    {
      "cell_type": "code",
      "source": [
        "x_mean, y_mean = np.mean(x), np.mean(y)\n",
        "manual_cov = 1 / (len(x)-1) * np.sum([(x[i] - x_mean) * (y[i] - y_mean) for i in range(len(x))])\n",
        "\n",
        "cov = np.cov(x,y, ddof=1)\n",
        "assert abs(cov[0,1] - manual_cov) < 0.0001\n",
        "print(f'Covariance: {cov[0,1]:.3f}')"
      ],
      "metadata": {
        "colab": {
          "base_uri": "https://localhost:8080/"
        },
        "id": "65uCm_gBRGzx",
        "outputId": "b89e4967-69e2-4f6d-fb28-ec3f3338213f"
      },
      "execution_count": 13,
      "outputs": [
        {
          "output_type": "stream",
          "name": "stdout",
          "text": [
            "Covariance: -0.001\n"
          ]
        }
      ]
    },
    {
      "cell_type": "markdown",
      "source": [
        "## Problem 4"
      ],
      "metadata": {
        "id": "AED3biSSRHOA"
      }
    },
    {
      "cell_type": "markdown",
      "source": [
        "### (A)\n",
        "\n",
        "Let's consider the two strategies.\n",
        "\n",
        "#### Stay\n",
        "\n",
        "If you stay, your probability of winning is simply the probability that your randomly selected cup/door/option is the winner, i.e. $1/3$.\n",
        "\n",
        "#### Switch\n",
        "\n",
        "If you play the switch strategy, there are two possibilities after you make your initial selection.\n",
        "- $1/3$ of times, if you are already on correct cup. You will then switch to a losing cup.\n",
        "- $2/3$ of times, you are initially on a losing cup. The operator then reveals the other losing cup. Because there are only three cups in total, the other unrevealing cup is the winning cup. You switch to the winning cup.\n",
        "\n",
        "With 3 cups, the switch strategy wins $2/3$ of the time in expectation."
      ],
      "metadata": {
        "id": "avzaM5EJRKi8"
      }
    },
    {
      "cell_type": "markdown",
      "source": [
        "### (B)"
      ],
      "metadata": {
        "id": "5O5yNuM7RL3l"
      }
    },
    {
      "cell_type": "code",
      "source": [
        "def play(switch: bool = False, n: int = 3) -> bool:\n",
        "  \"\"\"\n",
        "  Simulates the 'Monty Hall' problem with n choices.\n",
        "\n",
        "  Args:\n",
        "    switch (bool): Whether to switch after empty door is revealed\n",
        "    n (int): Number of options ('doors') at start of game\n",
        "\n",
        "  Returns:\n",
        "    win (bool): Outcome\n",
        "  \"\"\"\n",
        "  if n < 3:\n",
        "    raise ValueError(\"n must be at least 3\")\n",
        "\n",
        "  doors = np.arange(n)\n",
        "  correct = npr.randint(low=0, high=n)\n",
        "  guess = npr.randint(low=0, high=n)\n",
        "\n",
        "  # Select empty index to reveal\n",
        "  reveal = npr.choice(doors[(doors != correct) & (doors != guess)])\n",
        "\n",
        "  # If switching, randomly pick from remaining closed doors\n",
        "  if switch:\n",
        "      guess = npr.choice(doors[(doors != reveal) & (doors != guess)])\n",
        "\n",
        "  return guess == correct"
      ],
      "metadata": {
        "id": "rCH8699DRIHo"
      },
      "execution_count": 15,
      "outputs": []
    },
    {
      "cell_type": "code",
      "source": [
        "base_wins, switch_wins = 0, 0\n",
        "\n",
        "for _ in range(1_000):\n",
        "  base_wins += 1 if play(switch=False) else 0\n",
        "  switch_wins += 1 if play(switch=True) else 0\n",
        "\n",
        "print(f'Staying won {base_wins/10}% and switching won {switch_wins/10}%.')"
      ],
      "metadata": {
        "colab": {
          "base_uri": "https://localhost:8080/"
        },
        "id": "A3TWpBj2DAZz",
        "outputId": "47cd9fa4-c47b-48d9-898d-f0d9076344fd"
      },
      "execution_count": 16,
      "outputs": [
        {
          "output_type": "stream",
          "name": "stdout",
          "text": [
            "Staying won 35.5% and switching won 68.1%.\n"
          ]
        }
      ]
    },
    {
      "cell_type": "markdown",
      "source": [
        "### (C)\n",
        "\n",
        "Let's reconsider the two strategies with N>3 cups.\n",
        "\n",
        "#### Stay\n",
        "\n",
        "If you stay, your probability of winning is simply the probability that your randomly selected cup/door/option is the winner, i.e. $1/N$.\n",
        "\n",
        "#### Switch\n",
        "\n",
        "If you play the switch strategy, there are two possibilities after you make your initial selection.\n",
        "- $1/N$ of times, if you are already on correct cup. You will then switch to a losing cup.\n",
        "- $(N-1)/N$ of times, you are initially on a losing cup. The operator then reveals one other losing cup. The winning cup is one of the remaining unrevealed cups. You randomly pick from the (N-2) unrevealed cups, excluding your initial pick.\n",
        "\n",
        "With N cups, the switch strategy wins $\\frac{N-1}{N (N-2)}$ of the time in expectation."
      ],
      "metadata": {
        "id": "BrvDOdeNRM_u"
      }
    },
    {
      "cell_type": "markdown",
      "source": [
        "### (D)"
      ],
      "metadata": {
        "id": "DFFVewF7RN5C"
      }
    },
    {
      "cell_type": "code",
      "source": [
        "for n in [5, 10, 25]:\n",
        "  base_wins, switch_wins = 0, 0\n",
        "\n",
        "  for _ in range(1_000):\n",
        "    base_wins += 1 if play(switch=False, n=n) else 0\n",
        "    switch_wins += 1 if play(switch=True, n=n) else 0\n",
        "\n",
        "  ex = (n-1) / (n * (n-2))\n",
        "\n",
        "  print(f'With {n} doors, staying won {base_wins/10}% and switching won {switch_wins/10}%. Expected {100/n}% and {(100 * ex):.2f}%.')"
      ],
      "metadata": {
        "colab": {
          "base_uri": "https://localhost:8080/"
        },
        "id": "XrulojuTROkX",
        "outputId": "964e61e6-d2cb-4f78-e957-710c11b9210e"
      },
      "execution_count": 18,
      "outputs": [
        {
          "output_type": "stream",
          "name": "stdout",
          "text": [
            "With 5 doors, staying won 19.7% and switching won 26.2%. Expected 20.0% and 26.67%.\n",
            "With 10 doors, staying won 9.2% and switching won 12.4%. Expected 10.0% and 11.25%.\n",
            "With 25 doors, staying won 2.9% and switching won 3.9%. Expected 4.0% and 4.17%.\n"
          ]
        }
      ]
    }
  ]
}
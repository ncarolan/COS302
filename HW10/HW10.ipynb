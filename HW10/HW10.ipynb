{
  "nbformat": 4,
  "nbformat_minor": 0,
  "metadata": {
    "colab": {
      "provenance": [],
      "authorship_tag": "ABX9TyOPRTf+EVaIISfX3G++ZeF3",
      "include_colab_link": true
    },
    "kernelspec": {
      "name": "python3",
      "display_name": "Python 3"
    },
    "language_info": {
      "name": "python"
    }
  },
  "cells": [
    {
      "cell_type": "markdown",
      "metadata": {
        "id": "view-in-github",
        "colab_type": "text"
      },
      "source": [
        "<a href=\"https://colab.research.google.com/github/ncarolan/COS302/blob/main/HW10/HW10.ipynb\" target=\"_parent\"><img src=\"https://colab.research.google.com/assets/colab-badge.svg\" alt=\"Open In Colab\"/></a>"
      ]
    },
    {
      "cell_type": "markdown",
      "source": [
        "# COS302 - HW10"
      ],
      "metadata": {
        "id": "VyNMoUv_0Hre"
      }
    },
    {
      "cell_type": "code",
      "execution_count": 1,
      "metadata": {
        "id": "bwfWlFzS0GPM"
      },
      "outputs": [],
      "source": [
        "import numpy as np\n",
        "from matplotlib import pyplot as plt\n",
        "\n",
        "np.set_printoptions(precision=3, suppress=True)"
      ]
    },
    {
      "cell_type": "markdown",
      "source": [
        "## Problem 1"
      ],
      "metadata": {
        "id": "hoAzbP5b0N-J"
      }
    },
    {
      "cell_type": "markdown",
      "source": [
        "### (A)"
      ],
      "metadata": {
        "id": "1yMwUhVs0Wm1"
      }
    },
    {
      "cell_type": "code",
      "source": [
        "def f(A: np.ndarray, x: np.ndarray):\n",
        "  \"\"\"\n",
        "  Computes f(x) = x^T Ax.\n",
        "\n",
        "  Args:\n",
        "    A (np.ndarray): symmetric positive definite matrix of shape (n,n).\n",
        "    x (np.ndarray): input vector of shape (n,).\n",
        "\n",
        "  Returns:\n",
        "    f(x) (float/int): x^T Ax.\n",
        "  \"\"\"\n",
        "  return x.T @ A @ x"
      ],
      "metadata": {
        "id": "gANGlcsz0Q70"
      },
      "execution_count": 2,
      "outputs": []
    },
    {
      "cell_type": "code",
      "source": [
        "x = np.array([-1, 2])\n",
        "A = np.array([[3, -1], [-1, 2]])\n",
        "\n",
        "print(f'f(x)={f(A,x)}')"
      ],
      "metadata": {
        "colab": {
          "base_uri": "https://localhost:8080/"
        },
        "id": "ybnh16G3zTR0",
        "outputId": "c35ce2c1-339f-48a1-d18f-60abb4a4990b"
      },
      "execution_count": 3,
      "outputs": [
        {
          "output_type": "stream",
          "name": "stdout",
          "text": [
            "f(x)=15\n"
          ]
        }
      ]
    },
    {
      "cell_type": "markdown",
      "source": [
        "### (B)"
      ],
      "metadata": {
        "id": "SsdW1d6N0Xv0"
      }
    },
    {
      "cell_type": "code",
      "source": [
        "def grad_f(A: np.ndarray, x: np.ndarray) -> np.ndarray:\n",
        "  \"\"\"\n",
        "  Computes the derivate f'(x) = 2Ax. Because A is symmetric, the derivative is simplified in this special case.\n",
        "  Args:\n",
        "    A (np.ndarray): symmetric positive definite matrix of shape (n,n).\n",
        "    x (np.ndarray): input vector of shape (n,).\n",
        "\n",
        "  Returns:\n",
        "    f'(x) (np.ndarray): derivative of f with respect to x, with shape (n,).\n",
        "  \"\"\"\n",
        "  return 2 * A @ x"
      ],
      "metadata": {
        "id": "3hH-wb_I0Yh1"
      },
      "execution_count": 4,
      "outputs": []
    },
    {
      "cell_type": "code",
      "source": [
        "print(f'f\\'(x)={grad_f(A,x)}')"
      ],
      "metadata": {
        "colab": {
          "base_uri": "https://localhost:8080/"
        },
        "id": "WeFL3uJb3tMq",
        "outputId": "1754a1f6-3117-45a5-d650-51d8fede53e4"
      },
      "execution_count": 5,
      "outputs": [
        {
          "output_type": "stream",
          "name": "stdout",
          "text": [
            "f'(x)=[-10  10]\n"
          ]
        }
      ]
    },
    {
      "cell_type": "markdown",
      "source": [
        "### (C)"
      ],
      "metadata": {
        "id": "AB992oX20Y3C"
      }
    },
    {
      "cell_type": "code",
      "source": [
        "def grad_descent(A: np.ndarray, x0: np.ndarray, lr: float, num_iters: int) -> None:\n",
        "  \"\"\"\n",
        "  Performs gradient descent on x, minimizing the loss provided by f(x).\n",
        "\n",
        "  Args:\n",
        "    A (np.ndarray): symmetric positive definite matrix of shape (n,n).\n",
        "    x0 (np.ndarray): input vector of shape (n,).\n",
        "    lr (float): learning rate.\n",
        "    num_iters (int): number of iterations of gradient descent.\n",
        "  \"\"\"\n",
        "  x_t = x0\n",
        "  for iter in range(num_iters):\n",
        "    print(f'Iteration {iter+1}: x_t={x_t} f(x_t)={f(A, x_t):.3f}')\n",
        "    x_t = x_t - lr * (grad_f(A, x_t))\n",
        "  print(f'Iteration {num_iters}: x_t={x_t} f(x_t)={f(A, x_t):.3f}')  # Final loss"
      ],
      "metadata": {
        "id": "T__sLSsS0ZtV"
      },
      "execution_count": 6,
      "outputs": []
    },
    {
      "cell_type": "markdown",
      "source": [
        "### (D)"
      ],
      "metadata": {
        "id": "DEuKGapQ0bKM"
      }
    },
    {
      "cell_type": "code",
      "source": [
        "x0_ = np.array([10,10])\n",
        "A_ = np.array([[1, 0], [0, 4]])\n",
        "\n",
        "for lr in [1, 0.25, 0.1, 0.01]:\n",
        "  print(f'------------  LR={lr}  ------------')\n",
        "  grad_descent(A_, x0_, lr=lr, num_iters=50)"
      ],
      "metadata": {
        "colab": {
          "base_uri": "https://localhost:8080/"
        },
        "id": "MmwHtWJG0b0_",
        "outputId": "60cabc85-9506-40f2-cab0-4e6d0700812c"
      },
      "execution_count": 7,
      "outputs": [
        {
          "output_type": "stream",
          "name": "stdout",
          "text": [
            "------------  LR=1  ------------\n",
            "Iteration 1: x_t=[10 10] f(x_t)=500.000\n",
            "Iteration 2: x_t=[-10 -70] f(x_t)=19700.000\n",
            "Iteration 3: x_t=[ 10 490] f(x_t)=960500.000\n",
            "Iteration 4: x_t=[  -10 -3430] f(x_t)=47059700.000\n",
            "Iteration 5: x_t=[   10 24010] f(x_t)=2305920500.000\n",
            "Iteration 6: x_t=[    -10 -168070] f(x_t)=112990099700.000\n",
            "Iteration 7: x_t=[     10 1176490] f(x_t)=5536514880500.000\n",
            "Iteration 8: x_t=[     -10 -8235430] f(x_t)=271289229139700.000\n",
            "Iteration 9: x_t=[      10 57648010] f(x_t)=13293172227840500.000\n",
            "Iteration 10: x_t=[       -10 -403536070] f(x_t)=651365439164179712.000\n",
            "Iteration 11: x_t=[        10 2824752490] f(x_t)=-4976581628374302720.000\n",
            "Iteration 12: x_t=[         -10 -19773267430] f(x_t)=-4044826832116667904.000\n",
            "Iteration 13: x_t=[          10 138412872010] f(x_t)=4717670037088347136.000\n",
            "Iteration 14: x_t=[          -10 -968890104070] f(x_t)=-8641841140895141888.000\n",
            "Iteration 15: x_t=[           10 6782230728490] f(x_t)=824897791457741824.000\n",
            "Iteration 16: x_t=[            -10 -47475615099430] f(x_t)=3526503634010240512.000\n",
            "Iteration 17: x_t=[             10 332329305696010] f(x_t)=6777981403115827200.000\n",
            "Iteration 18: x_t=[              -10 -2326305139872070] f(x_t)=79695425903623408.000\n",
            "Iteration 19: x_t=[               10 16284135979104490] f(x_t)=3905075869277542400.000\n",
            "Iteration 20: x_t=[                -10 -113988951853731430] f(x_t)=6881276857504056320.000\n",
            "Iteration 21: x_t=[                10 797922662976120010] f(x_t)=5141172690926812160.000\n",
            "Iteration 22: x_t=[                 -10 -5585458640832840070] f(x_t)=-6336955176519907328.000\n",
            "Iteration 23: x_t=[                 10 2204722338410777258] f(x_t)=3083845603586925568.000\n",
            "Iteration 24: x_t=[                -10 3013687704834110810] f(x_t)=3534481986082934272.000\n",
            "Iteration 25: x_t=[                  10 -2649069860129224054] f(x_t)=7168920654677821440.000\n",
            "Iteration 26: x_t=[              -10 96744947195016762] f(x_t)=788974678731789568.000\n",
            "Iteration 27: x_t=[                 10 -677214630365117334] f(x_t)=1766271110438580224.000\n",
            "Iteration 28: x_t=[                -10 4740502412555821338] f(x_t)=-5686435957057332224.000\n",
            "Iteration 29: x_t=[                 10 3709971259528353866] f(x_t)=-1934200790166022656.000\n",
            "Iteration 30: x_t=[                 -10 -7523054742988925446] f(x_t)=-2542118349587357696.000\n",
            "Iteration 31: x_t=[                  10 -2678849020206176726] f(x_t)=4563409386186341376.000\n",
            "Iteration 32: x_t=[               -10 305199067733685466] f(x_t)=2246131038616102656.000\n",
            "Iteration 33: x_t=[                  10 -2136393474135798262] f(x_t)=-620043550068284928.000\n",
            "Iteration 34: x_t=[                 -10 -3491989754758963782] f(x_t)=6511354194073136128.000\n",
            "Iteration 35: x_t=[                 10 5997184209603194858] f(x_t)=5461706256521299968.000\n",
            "Iteration 36: x_t=[                 -10 -5086801319803260774] f(x_t)=-9077554536099580928.000\n",
            "Iteration 37: x_t=[                  10 -1285878908796277814] f(x_t)=-2078314499850244608.000\n",
            "Iteration 38: x_t=[                -10 9001152361573944698] f(x_t)=8843053949595318272.000\n",
            "Iteration 39: x_t=[                  10 -7667834309888958038] f(x_t)=9034529834850915328.000\n",
            "Iteration 40: x_t=[                 -10 -1665392051905948582] f(x_t)=-29895861334393100.000\n",
            "Iteration 41: x_t=[                  10 -6788999710367911542] f(x_t)=-1464897205385266688.000\n",
            "Iteration 42: x_t=[                 -10 -7817234248553274054] f(x_t)=2007013230960133376.000\n",
            "Iteration 43: x_t=[                 10 -619592481255736470] f(x_t)=6109927948498771968.000\n",
            "Iteration 44: x_t=[                -10 4337147368790155290] f(x_t)=4238564297086994944.000\n",
            "Iteration 45: x_t=[                 10 6533456565888016202] f(x_t)=4775465746457691136.000\n",
            "Iteration 46: x_t=[                 -10 -8840707813797010182] f(x_t)=-5809851381797285888.000\n",
            "Iteration 47: x_t=[                 10 6544722475450416426] f(x_t)=-7981556602423727104.000\n",
            "Iteration 48: x_t=[                 -10 -8919569180733811750] f(x_t)=-3714647970862049792.000\n",
            "Iteration 49: x_t=[                 10 7096752044008027402] f(x_t)=2449690164855083520.000\n",
            "Iteration 50: x_t=[                -10 5662967913072463034] f(x_t)=-9092390438067774464.000\n",
            "Iteration 50: x_t=[                  10 -2747287244088138006] f(x_t)=-2805273696291702784.000\n",
            "------------  LR=0.25  ------------\n",
            "Iteration 1: x_t=[10 10] f(x_t)=500.000\n",
            "Iteration 2: x_t=[  5. -10.] f(x_t)=425.000\n",
            "Iteration 3: x_t=[ 2.5 10. ] f(x_t)=406.250\n",
            "Iteration 4: x_t=[  1.25 -10.  ] f(x_t)=401.562\n",
            "Iteration 5: x_t=[ 0.625 10.   ] f(x_t)=400.391\n",
            "Iteration 6: x_t=[  0.312 -10.   ] f(x_t)=400.098\n",
            "Iteration 7: x_t=[ 0.156 10.   ] f(x_t)=400.024\n",
            "Iteration 8: x_t=[  0.078 -10.   ] f(x_t)=400.006\n",
            "Iteration 9: x_t=[ 0.039 10.   ] f(x_t)=400.002\n",
            "Iteration 10: x_t=[  0.02 -10.  ] f(x_t)=400.000\n",
            "Iteration 11: x_t=[ 0.01 10.  ] f(x_t)=400.000\n",
            "Iteration 12: x_t=[  0.005 -10.   ] f(x_t)=400.000\n",
            "Iteration 13: x_t=[ 0.002 10.   ] f(x_t)=400.000\n",
            "Iteration 14: x_t=[  0.001 -10.   ] f(x_t)=400.000\n",
            "Iteration 15: x_t=[ 0.001 10.   ] f(x_t)=400.000\n",
            "Iteration 16: x_t=[  0. -10.] f(x_t)=400.000\n",
            "Iteration 17: x_t=[ 0. 10.] f(x_t)=400.000\n",
            "Iteration 18: x_t=[  0. -10.] f(x_t)=400.000\n",
            "Iteration 19: x_t=[ 0. 10.] f(x_t)=400.000\n",
            "Iteration 20: x_t=[  0. -10.] f(x_t)=400.000\n",
            "Iteration 21: x_t=[ 0. 10.] f(x_t)=400.000\n",
            "Iteration 22: x_t=[  0. -10.] f(x_t)=400.000\n",
            "Iteration 23: x_t=[ 0. 10.] f(x_t)=400.000\n",
            "Iteration 24: x_t=[  0. -10.] f(x_t)=400.000\n",
            "Iteration 25: x_t=[ 0. 10.] f(x_t)=400.000\n",
            "Iteration 26: x_t=[  0. -10.] f(x_t)=400.000\n",
            "Iteration 27: x_t=[ 0. 10.] f(x_t)=400.000\n",
            "Iteration 28: x_t=[  0. -10.] f(x_t)=400.000\n",
            "Iteration 29: x_t=[ 0. 10.] f(x_t)=400.000\n",
            "Iteration 30: x_t=[  0. -10.] f(x_t)=400.000\n",
            "Iteration 31: x_t=[ 0. 10.] f(x_t)=400.000\n",
            "Iteration 32: x_t=[  0. -10.] f(x_t)=400.000\n",
            "Iteration 33: x_t=[ 0. 10.] f(x_t)=400.000\n",
            "Iteration 34: x_t=[  0. -10.] f(x_t)=400.000\n",
            "Iteration 35: x_t=[ 0. 10.] f(x_t)=400.000\n",
            "Iteration 36: x_t=[  0. -10.] f(x_t)=400.000\n",
            "Iteration 37: x_t=[ 0. 10.] f(x_t)=400.000\n",
            "Iteration 38: x_t=[  0. -10.] f(x_t)=400.000\n",
            "Iteration 39: x_t=[ 0. 10.] f(x_t)=400.000\n",
            "Iteration 40: x_t=[  0. -10.] f(x_t)=400.000\n",
            "Iteration 41: x_t=[ 0. 10.] f(x_t)=400.000\n",
            "Iteration 42: x_t=[  0. -10.] f(x_t)=400.000\n",
            "Iteration 43: x_t=[ 0. 10.] f(x_t)=400.000\n",
            "Iteration 44: x_t=[  0. -10.] f(x_t)=400.000\n",
            "Iteration 45: x_t=[ 0. 10.] f(x_t)=400.000\n",
            "Iteration 46: x_t=[  0. -10.] f(x_t)=400.000\n",
            "Iteration 47: x_t=[ 0. 10.] f(x_t)=400.000\n",
            "Iteration 48: x_t=[  0. -10.] f(x_t)=400.000\n",
            "Iteration 49: x_t=[ 0. 10.] f(x_t)=400.000\n",
            "Iteration 50: x_t=[  0. -10.] f(x_t)=400.000\n",
            "Iteration 50: x_t=[ 0. 10.] f(x_t)=400.000\n",
            "------------  LR=0.1  ------------\n",
            "Iteration 1: x_t=[10 10] f(x_t)=500.000\n",
            "Iteration 2: x_t=[8. 2.] f(x_t)=80.000\n",
            "Iteration 3: x_t=[6.4 0.4] f(x_t)=41.600\n",
            "Iteration 4: x_t=[5.12 0.08] f(x_t)=26.240\n",
            "Iteration 5: x_t=[4.096 0.016] f(x_t)=16.778\n",
            "Iteration 6: x_t=[3.277 0.003] f(x_t)=10.737\n",
            "Iteration 7: x_t=[2.621 0.001] f(x_t)=6.872\n",
            "Iteration 8: x_t=[2.097 0.   ] f(x_t)=4.398\n",
            "Iteration 9: x_t=[1.678 0.   ] f(x_t)=2.815\n",
            "Iteration 10: x_t=[1.342 0.   ] f(x_t)=1.801\n",
            "Iteration 11: x_t=[1.074 0.   ] f(x_t)=1.153\n",
            "Iteration 12: x_t=[0.859 0.   ] f(x_t)=0.738\n",
            "Iteration 13: x_t=[0.687 0.   ] f(x_t)=0.472\n",
            "Iteration 14: x_t=[0.55 0.  ] f(x_t)=0.302\n",
            "Iteration 15: x_t=[0.44 0.  ] f(x_t)=0.193\n",
            "Iteration 16: x_t=[0.352 0.   ] f(x_t)=0.124\n",
            "Iteration 17: x_t=[0.281 0.   ] f(x_t)=0.079\n",
            "Iteration 18: x_t=[0.225 0.   ] f(x_t)=0.051\n",
            "Iteration 19: x_t=[0.18 0.  ] f(x_t)=0.032\n",
            "Iteration 20: x_t=[0.144 0.   ] f(x_t)=0.021\n",
            "Iteration 21: x_t=[0.115 0.   ] f(x_t)=0.013\n",
            "Iteration 22: x_t=[0.092 0.   ] f(x_t)=0.009\n",
            "Iteration 23: x_t=[0.074 0.   ] f(x_t)=0.005\n",
            "Iteration 24: x_t=[0.059 0.   ] f(x_t)=0.003\n",
            "Iteration 25: x_t=[0.047 0.   ] f(x_t)=0.002\n",
            "Iteration 26: x_t=[0.038 0.   ] f(x_t)=0.001\n",
            "Iteration 27: x_t=[0.03 0.  ] f(x_t)=0.001\n",
            "Iteration 28: x_t=[0.024 0.   ] f(x_t)=0.001\n",
            "Iteration 29: x_t=[0.019 0.   ] f(x_t)=0.000\n",
            "Iteration 30: x_t=[0.015 0.   ] f(x_t)=0.000\n",
            "Iteration 31: x_t=[0.012 0.   ] f(x_t)=0.000\n",
            "Iteration 32: x_t=[0.01 0.  ] f(x_t)=0.000\n",
            "Iteration 33: x_t=[0.008 0.   ] f(x_t)=0.000\n",
            "Iteration 34: x_t=[0.006 0.   ] f(x_t)=0.000\n",
            "Iteration 35: x_t=[0.005 0.   ] f(x_t)=0.000\n",
            "Iteration 36: x_t=[0.004 0.   ] f(x_t)=0.000\n",
            "Iteration 37: x_t=[0.003 0.   ] f(x_t)=0.000\n",
            "Iteration 38: x_t=[0.003 0.   ] f(x_t)=0.000\n",
            "Iteration 39: x_t=[0.002 0.   ] f(x_t)=0.000\n",
            "Iteration 40: x_t=[0.002 0.   ] f(x_t)=0.000\n",
            "Iteration 41: x_t=[0.001 0.   ] f(x_t)=0.000\n",
            "Iteration 42: x_t=[0.001 0.   ] f(x_t)=0.000\n",
            "Iteration 43: x_t=[0.001 0.   ] f(x_t)=0.000\n",
            "Iteration 44: x_t=[0.001 0.   ] f(x_t)=0.000\n",
            "Iteration 45: x_t=[0.001 0.   ] f(x_t)=0.000\n",
            "Iteration 46: x_t=[0. 0.] f(x_t)=0.000\n",
            "Iteration 47: x_t=[0. 0.] f(x_t)=0.000\n",
            "Iteration 48: x_t=[0. 0.] f(x_t)=0.000\n",
            "Iteration 49: x_t=[0. 0.] f(x_t)=0.000\n",
            "Iteration 50: x_t=[0. 0.] f(x_t)=0.000\n",
            "Iteration 50: x_t=[0. 0.] f(x_t)=0.000\n",
            "------------  LR=0.01  ------------\n",
            "Iteration 1: x_t=[10 10] f(x_t)=500.000\n",
            "Iteration 2: x_t=[9.8 9.2] f(x_t)=434.600\n",
            "Iteration 3: x_t=[9.604 8.464] f(x_t)=378.794\n",
            "Iteration 4: x_t=[9.412 7.787] f(x_t)=331.126\n",
            "Iteration 5: x_t=[9.224 7.164] f(x_t)=290.364\n",
            "Iteration 6: x_t=[9.039 6.591] f(x_t)=255.463\n",
            "Iteration 7: x_t=[8.858 6.064] f(x_t)=225.538\n",
            "Iteration 8: x_t=[8.681 5.578] f(x_t)=199.841\n",
            "Iteration 9: x_t=[8.508 5.132] f(x_t)=177.737\n",
            "Iteration 10: x_t=[8.337 4.722] f(x_t)=158.688\n",
            "Iteration 11: x_t=[8.171 4.344] f(x_t)=142.238\n",
            "Iteration 12: x_t=[8.007 3.996] f(x_t)=128.001\n",
            "Iteration 13: x_t=[7.847 3.677] f(x_t)=115.649\n",
            "Iteration 14: x_t=[7.69  3.383] f(x_t)=104.906\n",
            "Iteration 15: x_t=[7.536 3.112] f(x_t)=95.534\n",
            "Iteration 16: x_t=[7.386 2.863] f(x_t)=87.335\n",
            "Iteration 17: x_t=[7.238 2.634] f(x_t)=80.139\n",
            "Iteration 18: x_t=[7.093 2.423] f(x_t)=73.802\n",
            "Iteration 19: x_t=[6.951 2.229] f(x_t)=68.202\n",
            "Iteration 20: x_t=[6.812 2.051] f(x_t)=63.234\n",
            "Iteration 21: x_t=[6.676 1.887] f(x_t)=58.812\n",
            "Iteration 22: x_t=[6.543 1.736] f(x_t)=54.860\n",
            "Iteration 23: x_t=[6.412 1.597] f(x_t)=51.313\n",
            "Iteration 24: x_t=[6.283 1.469] f(x_t)=48.118\n",
            "Iteration 25: x_t=[6.158 1.352] f(x_t)=45.228\n",
            "Iteration 26: x_t=[6.035 1.244] f(x_t)=42.604\n",
            "Iteration 27: x_t=[5.914 1.144] f(x_t)=40.211\n",
            "Iteration 28: x_t=[5.796 1.053] f(x_t)=38.022\n",
            "Iteration 29: x_t=[5.68  0.968] f(x_t)=36.011\n",
            "Iteration 30: x_t=[5.566 0.891] f(x_t)=34.157\n",
            "Iteration 31: x_t=[5.455 0.82 ] f(x_t)=32.443\n",
            "Iteration 32: x_t=[5.346 0.754] f(x_t)=30.852\n",
            "Iteration 33: x_t=[5.239 0.694] f(x_t)=29.371\n",
            "Iteration 34: x_t=[5.134 0.638] f(x_t)=27.988\n",
            "Iteration 35: x_t=[5.031 0.587] f(x_t)=26.694\n",
            "Iteration 36: x_t=[4.931 0.54 ] f(x_t)=25.480\n",
            "Iteration 37: x_t=[4.832 0.497] f(x_t)=24.338\n",
            "Iteration 38: x_t=[4.735 0.457] f(x_t)=23.261\n",
            "Iteration 39: x_t=[4.641 0.421] f(x_t)=22.245\n",
            "Iteration 40: x_t=[4.548 0.387] f(x_t)=21.283\n",
            "Iteration 41: x_t=[4.457 0.356] f(x_t)=20.372\n",
            "Iteration 42: x_t=[4.368 0.328] f(x_t)=19.507\n",
            "Iteration 43: x_t=[4.281 0.301] f(x_t)=18.686\n",
            "Iteration 44: x_t=[4.195 0.277] f(x_t)=17.905\n",
            "Iteration 45: x_t=[4.111 0.255] f(x_t)=17.161\n",
            "Iteration 46: x_t=[4.029 0.235] f(x_t)=16.451\n",
            "Iteration 47: x_t=[3.948 0.216] f(x_t)=15.775\n",
            "Iteration 48: x_t=[3.869 0.199] f(x_t)=15.129\n",
            "Iteration 49: x_t=[3.792 0.183] f(x_t)=14.512\n",
            "Iteration 50: x_t=[3.716 0.168] f(x_t)=13.922\n",
            "Iteration 50: x_t=[3.642 0.155] f(x_t)=13.358\n"
          ]
        }
      ]
    },
    {
      "cell_type": "markdown",
      "source": [
        "We observe that `x_t` does not converge to the same values, meaning that gradient descent does not work for every possible learning rate. With `lr=1`, the optimization appears to over-adjust with each step, growing increasingly unstable. With `lr=0.25`, the optimization appears to get stuck between two points. With `lr=0.1`, the descent gradually converges to minimize the loss `f(x_t)` at `0`. With `lr=0.01`, the convergence is too gradual to complete in 50 steps."
      ],
      "metadata": {
        "id": "dwARAG2g6zse"
      }
    },
    {
      "cell_type": "markdown",
      "source": [
        "## Problem 2"
      ],
      "metadata": {
        "id": "HvI57FLx0cL3"
      }
    },
    {
      "cell_type": "markdown",
      "source": [
        "### (A)"
      ],
      "metadata": {
        "id": "mcYU8sp60dwp"
      }
    },
    {
      "cell_type": "code",
      "source": [
        "from typing import Callable\n",
        "import copy\n",
        "\n",
        "def finite_diff(func: Callable[[np.ndarray], np.ndarray], x: np.ndarray, epsilon: float) -> np.ndarray:\n",
        "  \"\"\"\n",
        "  Estimates the derivative of a Callable function using finite differences.\n",
        "\n",
        "  Args:\n",
        "    func (Callable): function from R^n -> R^m to be differentiated.\n",
        "    x (np.ndarray): input vector of shape (n,).\n",
        "    epsilon (float): finite difference.\n",
        "\n",
        "  Returns:\n",
        "    res (np.ndarray): estimated derivative(s) in shape (n,).\n",
        "  \"\"\"\n",
        "  res = np.zeros(x.shape)\n",
        "  for idx, var in enumerate(x):\n",
        "    x1 = copy.deepcopy(x)\n",
        "    x1[idx] = x1[idx] + epsilon\n",
        "    x2 = copy.deepcopy(x)\n",
        "    x2[idx] = x2[idx] - epsilon\n",
        "    res[idx] = (0.5 / epsilon) * (func(x1) - func(x2))\n",
        "  return res"
      ],
      "metadata": {
        "id": "I8iapi-z0dK8"
      },
      "execution_count": 8,
      "outputs": []
    },
    {
      "cell_type": "markdown",
      "source": [
        "### (B)"
      ],
      "metadata": {
        "id": "ey8sC6390iPh"
      }
    },
    {
      "cell_type": "code",
      "source": [
        "c = np.array([1, 2, 3], dtype=np.float32)\n",
        "A__ = np.array([[1, 2, 3, 4, 5],\n",
        "                [6, 7, 8, 9, 10],\n",
        "                [11, 12, 13, 14, 15]], dtype=np.float32)\n",
        "\n",
        "def f_(x: np.ndarray) -> np.ndarray:\n",
        "  \"\"\"\n",
        "  Computes f_(x) = (c - A__ @ x).T @ (c - A__ @ x)\n",
        "\n",
        "  Args:\n",
        "    x (np.ndarray): input vector of shape (5,).\n",
        "\n",
        "  Returns:\n",
        "    f_(x) (float/int): (c - A__ @ x).T @ (c - A__ @ x).\n",
        "  \"\"\"\n",
        "  return (c - A__ @ x).T @ (c - A__ @ x)\n",
        "\n",
        "def grad_f_(x: np.ndarray) -> np.ndarray:\n",
        "  \"\"\"\n",
        "  Computes f_'(x) = -2 * A__.T @ (c - A__ @ x)\n",
        "\n",
        "  Args:\n",
        "    x (np.ndarray): input vector of shape (5,).\n",
        "\n",
        "  Returns:\n",
        "    f_'(x) (np.ndarray): -2 * A__.T @ (c - A__ @ x).\n",
        "  \"\"\"\n",
        "  return -2 * A__.T @ (c - A__ @ x)"
      ],
      "metadata": {
        "id": "00DdajO_0i4b"
      },
      "execution_count": 9,
      "outputs": []
    },
    {
      "cell_type": "markdown",
      "source": [
        "### (C)"
      ],
      "metadata": {
        "id": "S5UdADWA0jPz"
      }
    },
    {
      "cell_type": "code",
      "source": [
        "x_ = np.array([1.0, 2.0, 3.0, 4.0, 5.0], dtype=np.float32)\n",
        "\n",
        "est_grad = finite_diff(f_, x_, epsilon=1e-4)\n",
        "print(f'Estimated gradient from finite diffs: {est_grad}')\n",
        "grad = grad_f_(x_)\n",
        "print(f'Computed gradient: {grad}')"
      ],
      "metadata": {
        "colab": {
          "base_uri": "https://localhost:8080/"
        },
        "id": "q2uPWk600k5g",
        "outputId": "56de768c-9d68-4806-dc3a-a1fb0a2eb16f"
      },
      "execution_count": 10,
      "outputs": [
        {
          "output_type": "stream",
          "name": "stdout",
          "text": [
            "Estimated gradient from finite diffs: [6093.75  6796.875 7578.125 8398.438 9179.688]\n",
            "Computed gradient: [6088. 6856. 7624. 8392. 9160.]\n"
          ]
        }
      ]
    },
    {
      "cell_type": "markdown",
      "source": [
        "### (D)"
      ],
      "metadata": {
        "id": "8UEEeveR0lee"
      }
    },
    {
      "cell_type": "code",
      "source": [
        "import autograd.numpy as anp\n",
        "from autograd import grad\n",
        "\n",
        "auto_grad_f_ = grad(f_)\n",
        "auto_comp_grad = auto_grad_f_(x_)\n",
        "print(f'Autograd computed gradient: {auto_comp_grad}')"
      ],
      "metadata": {
        "colab": {
          "base_uri": "https://localhost:8080/"
        },
        "id": "oQGAxXkD0mlk",
        "outputId": "8569ec34-9b2f-4a43-b0a2-0afe8f8569f3"
      },
      "execution_count": 11,
      "outputs": [
        {
          "output_type": "stream",
          "name": "stdout",
          "text": [
            "Autograd computed gradient: [6088. 6856. 7624. 8392. 9160.]\n"
          ]
        }
      ]
    },
    {
      "cell_type": "markdown",
      "source": [
        "## Problem 3"
      ],
      "metadata": {
        "id": "o_rUbZLX0m6-"
      }
    },
    {
      "cell_type": "markdown",
      "source": [
        "### (A)"
      ],
      "metadata": {
        "id": "c3k1zYbw0qcy"
      }
    },
    {
      "cell_type": "code",
      "source": [
        "def newton_step(func: Callable[[np.ndarray], np.ndarray], x: np.ndarray) -> np.ndarray:\n",
        "  \"\"\"\n",
        "  Takes one update step in Newton's method of optimization: x_[t+1] = x_t - f'(x_t)/f''(x_t).\n",
        "\n",
        "  Args:\n",
        "    func (Callable): function to be minimized.\n",
        "    x (np.ndarray): input to func (x_t).\n",
        "\n",
        "  Returns:\n",
        "    x_[t+1] (np.ndarray)\n",
        "  \"\"\"\n",
        "  first_dir = grad(func)\n",
        "  second_dir = grad(grad(func))\n",
        "  if second_dir(x) == 0:\n",
        "    return 0  # Divide by 0 error\n",
        "  return x - (first_dir(x) / second_dir(x))"
      ],
      "metadata": {
        "id": "JdHxjHOp0oj-"
      },
      "execution_count": 12,
      "outputs": []
    },
    {
      "cell_type": "markdown",
      "source": [
        "### (B)"
      ],
      "metadata": {
        "id": "sXQj_sIh0rdB"
      }
    },
    {
      "cell_type": "code",
      "source": [
        "def sinc(x: np.ndarray) -> np.ndarray:\n",
        "  \"\"\"Computes sinc(x) = sin(x)/x.\"\"\"\n",
        "  return anp.sin(x) / x"
      ],
      "metadata": {
        "id": "gL4uaKY60sHI"
      },
      "execution_count": 13,
      "outputs": []
    },
    {
      "cell_type": "code",
      "source": [
        "x_vals = np.arange(-8, 8, 0.1)\n",
        "y_vals = sinc(x_vals)\n",
        "\n",
        "plt.plot(x_vals, y_vals); plt.title(\"sinc(x) = sin(x)/x\"); plt.show()"
      ],
      "metadata": {
        "colab": {
          "base_uri": "https://localhost:8080/",
          "height": 452
        },
        "id": "m6vnED56CX02",
        "outputId": "f42560cd-6009-42a8-c222-2ee677df7cc6"
      },
      "execution_count": 14,
      "outputs": [
        {
          "output_type": "display_data",
          "data": {
            "text/plain": [
              "<Figure size 640x480 with 1 Axes>"
            ],
            "image/png": "[encoded data removed]"
          },
          "metadata": {}
        }
      ]
    },
    {
      "cell_type": "markdown",
      "source": [
        "### (C)"
      ],
      "metadata": {
        "id": "I4ozLOyK0sZa"
      }
    },
    {
      "cell_type": "code",
      "source": [
        "MIN_STEP = 1e-4  # Stop optimization when step size is less than this threshold\n",
        "\n",
        "for x_start in [3.0, -4.0, 0.5]:\n",
        "  print(f'----------  Start = {x_start}  ----------')\n",
        "  step_size = float('inf')\n",
        "  x = np.array([x_start], dtype=np.float32)\n",
        "  while step_size > MIN_STEP:\n",
        "    x_t = newton_step(sinc, x)\n",
        "    step_size = abs(x - x_t)\n",
        "    print(f'x: {x} -> {x_t}')\n",
        "    x = x_t\n",
        "  print('\\n')"
      ],
      "metadata": {
        "colab": {
          "base_uri": "https://localhost:8080/"
        },
        "id": "XuxkVYr80tEi",
        "outputId": "edcc0c05-b98b-4415-8c8f-14ad92f01475"
      },
      "execution_count": 15,
      "outputs": [
        {
          "output_type": "stream",
          "name": "stdout",
          "text": [
            "----------  Start = 3.0  ----------\n",
            "x: [3.] -> [4.885]\n",
            "x: [4.885] -> [4.436]\n",
            "x: [4.436] -> [4.493]\n",
            "x: [4.493] -> [4.493]\n",
            "x: [4.493] -> [4.493]\n",
            "\n",
            "\n",
            "----------  Start = -4.0  ----------\n",
            "x: [-4.] -> [-4.47]\n",
            "x: [-4.47] -> [-4.493]\n",
            "x: [-4.493] -> [-4.493]\n",
            "x: [-4.493] -> [-4.493]\n",
            "\n",
            "\n",
            "----------  Start = 0.5  ----------\n",
            "x: [0.5] -> [-0.027]\n",
            "x: [-0.027] -> [0.]\n",
            "x: [0.] -> 0\n",
            "\n",
            "\n"
          ]
        }
      ]
    },
    {
      "cell_type": "markdown",
      "source": [
        "Starting Newton's method at `3.0` or `-4.0` quickly converges on the nearest minima at `~4.493` and `~-4.493` respectively. However, when starting from `x=0.5` the method does not converge to a local minimum and instead heads to the maximum at `x=0` where `f(x)=sin(x)/x` is undefined."
      ],
      "metadata": {
        "id": "E6tcc3aLcYvx"
      }
    }
  ]
}